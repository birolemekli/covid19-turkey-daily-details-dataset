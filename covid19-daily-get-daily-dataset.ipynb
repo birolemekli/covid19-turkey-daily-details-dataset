{
 "cells": [
  {
   "cell_type": "code",
   "execution_count": 3,
   "metadata": {},
   "outputs": [],
   "source": [
    "#!pip -q install requests_html"
   ]
  },
  {
   "cell_type": "code",
   "execution_count": 4,
   "metadata": {},
   "outputs": [],
   "source": [
    "import requests\n",
    "import time\n",
    "import datetime\n",
    "from requests_html import HTMLSession\n",
    "import pandas as pd"
   ]
  },
  {
   "cell_type": "code",
   "execution_count": 5,
   "metadata": {},
   "outputs": [],
   "source": [
    "data=pd.read_csv(\"./covid19-Turkey.csv\",index_col=\"date\")"
   ]
  },
  {
   "cell_type": "code",
   "execution_count": 6,
   "metadata": {},
   "outputs": [
    {
     "data": {
      "text/html": [
       "<div>\n",
       "<style scoped>\n",
       "    .dataframe tbody tr th:only-of-type {\n",
       "        vertical-align: middle;\n",
       "    }\n",
       "\n",
       "    .dataframe tbody tr th {\n",
       "        vertical-align: top;\n",
       "    }\n",
       "\n",
       "    .dataframe thead th {\n",
       "        text-align: right;\n",
       "    }\n",
       "</style>\n",
       "<table border=\"1\" class=\"dataframe\">\n",
       "  <thead>\n",
       "    <tr style=\"text-align: right;\">\n",
       "      <th></th>\n",
       "      <th>totalTests</th>\n",
       "      <th>totalCases</th>\n",
       "      <th>totalDeaths</th>\n",
       "      <th>totalIntensiveCare</th>\n",
       "      <th>totalIntubated</th>\n",
       "      <th>totalRecovered</th>\n",
       "      <th>dailyTests</th>\n",
       "      <th>dailyCases</th>\n",
       "      <th>dailyDeaths</th>\n",
       "      <th>dailyRecovered</th>\n",
       "    </tr>\n",
       "    <tr>\n",
       "      <th>date</th>\n",
       "      <th></th>\n",
       "      <th></th>\n",
       "      <th></th>\n",
       "      <th></th>\n",
       "      <th></th>\n",
       "      <th></th>\n",
       "      <th></th>\n",
       "      <th></th>\n",
       "      <th></th>\n",
       "      <th></th>\n",
       "    </tr>\n",
       "  </thead>\n",
       "  <tbody>\n",
       "    <tr>\n",
       "      <th>2020-07-16</th>\n",
       "      <td>4149909</td>\n",
       "      <td>216873</td>\n",
       "      <td>5440</td>\n",
       "      <td>1213</td>\n",
       "      <td>394</td>\n",
       "      <td>198820</td>\n",
       "      <td>42411</td>\n",
       "      <td>933</td>\n",
       "      <td>21</td>\n",
       "      <td>1087</td>\n",
       "    </tr>\n",
       "    <tr>\n",
       "      <th>2020-07-17</th>\n",
       "      <td>4191124</td>\n",
       "      <td>217799</td>\n",
       "      <td>5458</td>\n",
       "      <td>1226</td>\n",
       "      <td>402</td>\n",
       "      <td>199834</td>\n",
       "      <td>41215</td>\n",
       "      <td>926</td>\n",
       "      <td>18</td>\n",
       "      <td>1014</td>\n",
       "    </tr>\n",
       "    <tr>\n",
       "      <th>2020-07-18</th>\n",
       "      <td>4232067</td>\n",
       "      <td>218717</td>\n",
       "      <td>5475</td>\n",
       "      <td>1231</td>\n",
       "      <td>394</td>\n",
       "      <td>201013</td>\n",
       "      <td>40943</td>\n",
       "      <td>918</td>\n",
       "      <td>17</td>\n",
       "      <td>1179</td>\n",
       "    </tr>\n",
       "  </tbody>\n",
       "</table>\n",
       "</div>"
      ],
      "text/plain": [
       "            totalTests  totalCases  totalDeaths  totalIntensiveCare  \\\n",
       "date                                                                  \n",
       "2020-07-16     4149909      216873         5440                1213   \n",
       "2020-07-17     4191124      217799         5458                1226   \n",
       "2020-07-18     4232067      218717         5475                1231   \n",
       "\n",
       "            totalIntubated  totalRecovered  dailyTests  dailyCases  \\\n",
       "date                                                                 \n",
       "2020-07-16             394          198820       42411         933   \n",
       "2020-07-17             402          199834       41215         926   \n",
       "2020-07-18             394          201013       40943         918   \n",
       "\n",
       "            dailyDeaths  dailyRecovered  \n",
       "date                                     \n",
       "2020-07-16           21            1087  \n",
       "2020-07-17           18            1014  \n",
       "2020-07-18           17            1179  "
      ]
     },
     "execution_count": 6,
     "metadata": {},
     "output_type": "execute_result"
    }
   ],
   "source": [
    "data.tail(3)"
   ]
  },
  {
   "cell_type": "code",
   "execution_count": 7,
   "metadata": {},
   "outputs": [],
   "source": [
    "url = \"https://covid19.saglik.gov.tr/\""
   ]
  },
  {
   "cell_type": "code",
   "execution_count": 8,
   "metadata": {},
   "outputs": [],
   "source": [
    "session = HTMLSession()\n",
    "response = session.get(url)\n",
    "title = response.html.find('title', first=True).text"
   ]
  },
  {
   "cell_type": "code",
   "execution_count": 9,
   "metadata": {},
   "outputs": [],
   "source": [
    "totalTests = response.html.xpath('/html/body/div/div[2]/div/div[3]/div[1]/div/div/div/div/div[2]/div[1]/div[1]/div[1]/div/ul/li[1]/span[2]')\n",
    "totalTests=int(totalTests[0].text.replace('.',''))\n",
    "totalCases = response.html.xpath('/html/body/div/div[2]/div/div[3]/div[1]/div/div/div/div/div[2]/div[1]/div[1]/div[1]/div/ul/li[2]/span[2]')\n",
    "totalCases=int(totalCases[0].text.replace('.',''))\n",
    "totalDeath = response.html.xpath('/html/body/div/div[2]/div/div[3]/div[1]/div/div/div/div/div[2]/div[1]/div[1]/div[1]/div/ul/li[3]/span[2]')\n",
    "totalDeath=int(totalDeath[0].text.replace('.',''))\n",
    "totalIntensiveCare = response.html.xpath('/html/body/div/div[2]/div/div[3]/div[1]/div/div/div/div/div[2]/div[1]/div[1]/div[1]/div/ul/li[4]/span[2]')\n",
    "totalIntensiveCare=int(totalIntensiveCare[0].text.replace('.',''))\n",
    "totalIntubated = response.html.xpath('/html/body/div/div[2]/div/div[3]/div[1]/div/div/div/div/div[2]/div[1]/div[1]/div[1]/div/ul/li[5]/span[2]')\n",
    "totalIntubated=int(totalIntubated[0].text.replace('.',''))\n",
    "totalRecovered = response.html.xpath('/html/body/div/div[2]/div/div[3]/div[1]/div/div/div/div/div[2]/div[1]/div[1]/div[1]/div/ul/li[6]/span[2]')\n",
    "totalRecovered=int(totalRecovered[0].text.replace('.',''))\n",
    "dailyTest = response.html.xpath('/html/body/div/div[2]/div/div[3]/div[1]/div/div/div/div/div[2]/div[2]/div/ul/li[1]/span[2]')\n",
    "dailyTest=int(dailyTest[0].text.replace('.',''))\n",
    "dailyCases = response.html.xpath('/html/body/div/div[2]/div/div[3]/div[1]/div/div/div/div/div[2]/div[2]/div/ul/li[2]/span[2]')\n",
    "dailyCases=int(dailyCases[0].text.replace('.',''))\n",
    "dailyDeath = response.html.xpath('/html/body/div/div[2]/div/div[3]/div[1]/div/div/div/div/div[2]/div[2]/div/ul/li[3]/span[2]')\n",
    "dailyDeath=int(dailyDeath[0].text.replace('.',''))\n",
    "dailyRecovered = response.html.xpath('/html/body/div/div[2]/div/div[3]/div[1]/div/div/div/div/div[2]/div[2]/div/ul/li[4]/span[2]')\n",
    "dailyRecovered=int(dailyRecovered[0].text.replace('.',''))\n",
    "date=datetime.datetime.now().strftime(\"%Y-%m-%d\")"
   ]
  },
  {
   "cell_type": "code",
   "execution_count": 10,
   "metadata": {},
   "outputs": [
    {
     "name": "stdout",
     "output_type": "stream",
     "text": [
      "******* TURKEY MINISTRY OF HEALTH *******\n",
      "                DATE: 2020-07-19  \n",
      "          TOTAL TEST: 4273377  \n",
      "         TOTAL CASES: 219641  \n",
      "         TOTAL DEATH: 5491  \n",
      "TOTAL INTENSIVE CATE: 1246  \n",
      "     TOTAL INTUBATED: 398  \n",
      "     TOTAL RECOVERED: 202010  \n",
      "          DAILY TEST: 41310  \n",
      "         DAILY CASES: 924  \n",
      "         DAILY DEATH: 16  \n",
      "     DAILY RECOVERED: 997  \n"
     ]
    }
   ],
   "source": [
    "print(\"******* TURKEY MINISTRY OF HEALTH *******\")\n",
    "print(\"                DATE: %s  \" %(date),\n",
    "      \"          TOTAL TEST: %s  \" %(totalTests), \n",
    "      \"         TOTAL CASES: %s  \" %(totalCases), \n",
    "      \"         TOTAL DEATH: %s  \" %(totalDeath), \n",
    "      \"TOTAL INTENSIVE CATE: %s  \" %(totalIntensiveCare), \n",
    "      \"     TOTAL INTUBATED: %s  \" %(totalIntubated), \n",
    "      \"     TOTAL RECOVERED: %s  \" %(totalRecovered), \n",
    "      \"          DAILY TEST: %s  \" %(dailyTest), \n",
    "      \"         DAILY CASES: %s  \" %(dailyCases), \n",
    "      \"         DAILY DEATH: %s  \" %(dailyDeath), \n",
    "      \"     DAILY RECOVERED: %s  \" %(dailyRecovered), \n",
    "      sep=\"\\n\")"
   ]
  },
  {
   "cell_type": "code",
   "execution_count": 11,
   "metadata": {},
   "outputs": [
    {
     "data": {
      "text/html": [
       "<div>\n",
       "<style scoped>\n",
       "    .dataframe tbody tr th:only-of-type {\n",
       "        vertical-align: middle;\n",
       "    }\n",
       "\n",
       "    .dataframe tbody tr th {\n",
       "        vertical-align: top;\n",
       "    }\n",
       "\n",
       "    .dataframe thead th {\n",
       "        text-align: right;\n",
       "    }\n",
       "</style>\n",
       "<table border=\"1\" class=\"dataframe\">\n",
       "  <thead>\n",
       "    <tr style=\"text-align: right;\">\n",
       "      <th></th>\n",
       "      <th>totalTests</th>\n",
       "      <th>totalCases</th>\n",
       "      <th>totalDeaths</th>\n",
       "      <th>totalIntensiveCare</th>\n",
       "      <th>totalIntubated</th>\n",
       "      <th>totalRecovered</th>\n",
       "      <th>dailyTests</th>\n",
       "      <th>dailyCases</th>\n",
       "      <th>dailyDeaths</th>\n",
       "      <th>dailyRecovered</th>\n",
       "    </tr>\n",
       "    <tr>\n",
       "      <th>date</th>\n",
       "      <th></th>\n",
       "      <th></th>\n",
       "      <th></th>\n",
       "      <th></th>\n",
       "      <th></th>\n",
       "      <th></th>\n",
       "      <th></th>\n",
       "      <th></th>\n",
       "      <th></th>\n",
       "      <th></th>\n",
       "    </tr>\n",
       "  </thead>\n",
       "  <tbody>\n",
       "    <tr>\n",
       "      <th>2020-07-19</th>\n",
       "      <td>4273377</td>\n",
       "      <td>219641</td>\n",
       "      <td>5491</td>\n",
       "      <td>1246</td>\n",
       "      <td>398</td>\n",
       "      <td>202010</td>\n",
       "      <td>41310</td>\n",
       "      <td>924</td>\n",
       "      <td>16</td>\n",
       "      <td>997</td>\n",
       "    </tr>\n",
       "  </tbody>\n",
       "</table>\n",
       "</div>"
      ],
      "text/plain": [
       "            totalTests  totalCases  totalDeaths  totalIntensiveCare  \\\n",
       "date                                                                  \n",
       "2020-07-19     4273377      219641         5491                1246   \n",
       "\n",
       "            totalIntubated  totalRecovered  dailyTests  dailyCases  \\\n",
       "date                                                                 \n",
       "2020-07-19             398          202010       41310         924   \n",
       "\n",
       "            dailyDeaths  dailyRecovered  \n",
       "date                                     \n",
       "2020-07-19           16             997  "
      ]
     },
     "execution_count": 11,
     "metadata": {},
     "output_type": "execute_result"
    }
   ],
   "source": [
    "yeni_data = pd.DataFrame({\n",
    "                           \"date\":[date],\n",
    "                            \"totalTests\":[totalTests],\n",
    "                            \"totalCases\":[totalCases],\n",
    "                            \"totalDeaths\":[totalDeath],\n",
    "                            \"totalIntensiveCare\":[totalIntensiveCare],\n",
    "                            \"totalIntubated\":[totalIntubated],\n",
    "                            \"totalRecovered\":[totalRecovered],\n",
    "                            \"dailyTests\":[dailyTest],\n",
    "                            \"dailyCases\":[dailyCases],\n",
    "                            \"dailyDeaths\":[dailyDeath],\n",
    "                            \"dailyRecovered\":[dailyRecovered]\n",
    "                         }) \n",
    "yeni_data=yeni_data.set_index('date')\n",
    "yeni_data.index=pd.to_datetime(yeni_data.index, format ='%Y-%m-%d')\n",
    "yeni_data"
   ]
  },
  {
   "cell_type": "code",
   "execution_count": 13,
   "metadata": {},
   "outputs": [
    {
     "name": "stdout",
     "output_type": "stream",
     "text": [
      "Yeni veri eklendi\n"
     ]
    }
   ],
   "source": [
    "for i in yeni_data.index.to_list():\n",
    "    if i not in data.index.to_list():\n",
    "        data=data.append(yeni_data)\n",
    "        print(\"Yeni veri eklendi\")"
   ]
  },
  {
   "cell_type": "code",
   "execution_count": 14,
   "metadata": {},
   "outputs": [],
   "source": [
    "data.index = pd.to_datetime(data.index, format ='%Y-%m-%d')"
   ]
  },
  {
   "cell_type": "code",
   "execution_count": 15,
   "metadata": {},
   "outputs": [
    {
     "data": {
      "text/html": [
       "<div>\n",
       "<style scoped>\n",
       "    .dataframe tbody tr th:only-of-type {\n",
       "        vertical-align: middle;\n",
       "    }\n",
       "\n",
       "    .dataframe tbody tr th {\n",
       "        vertical-align: top;\n",
       "    }\n",
       "\n",
       "    .dataframe thead th {\n",
       "        text-align: right;\n",
       "    }\n",
       "</style>\n",
       "<table border=\"1\" class=\"dataframe\">\n",
       "  <thead>\n",
       "    <tr style=\"text-align: right;\">\n",
       "      <th></th>\n",
       "      <th>totalTests</th>\n",
       "      <th>totalCases</th>\n",
       "      <th>totalDeaths</th>\n",
       "      <th>totalIntensiveCare</th>\n",
       "      <th>totalIntubated</th>\n",
       "      <th>totalRecovered</th>\n",
       "      <th>dailyTests</th>\n",
       "      <th>dailyCases</th>\n",
       "      <th>dailyDeaths</th>\n",
       "      <th>dailyRecovered</th>\n",
       "    </tr>\n",
       "    <tr>\n",
       "      <th>date</th>\n",
       "      <th></th>\n",
       "      <th></th>\n",
       "      <th></th>\n",
       "      <th></th>\n",
       "      <th></th>\n",
       "      <th></th>\n",
       "      <th></th>\n",
       "      <th></th>\n",
       "      <th></th>\n",
       "      <th></th>\n",
       "    </tr>\n",
       "  </thead>\n",
       "  <tbody>\n",
       "    <tr>\n",
       "      <th>2020-07-18</th>\n",
       "      <td>4232067</td>\n",
       "      <td>218717</td>\n",
       "      <td>5475</td>\n",
       "      <td>1231</td>\n",
       "      <td>394</td>\n",
       "      <td>201013</td>\n",
       "      <td>40943</td>\n",
       "      <td>918</td>\n",
       "      <td>17</td>\n",
       "      <td>1179</td>\n",
       "    </tr>\n",
       "    <tr>\n",
       "      <th>2020-07-19</th>\n",
       "      <td>4273377</td>\n",
       "      <td>219641</td>\n",
       "      <td>5491</td>\n",
       "      <td>1246</td>\n",
       "      <td>398</td>\n",
       "      <td>202010</td>\n",
       "      <td>41310</td>\n",
       "      <td>924</td>\n",
       "      <td>16</td>\n",
       "      <td>997</td>\n",
       "    </tr>\n",
       "  </tbody>\n",
       "</table>\n",
       "</div>"
      ],
      "text/plain": [
       "            totalTests  totalCases  totalDeaths  totalIntensiveCare  \\\n",
       "date                                                                  \n",
       "2020-07-18     4232067      218717         5475                1231   \n",
       "2020-07-19     4273377      219641         5491                1246   \n",
       "\n",
       "            totalIntubated  totalRecovered  dailyTests  dailyCases  \\\n",
       "date                                                                 \n",
       "2020-07-18             394          201013       40943         918   \n",
       "2020-07-19             398          202010       41310         924   \n",
       "\n",
       "            dailyDeaths  dailyRecovered  \n",
       "date                                     \n",
       "2020-07-18           17            1179  \n",
       "2020-07-19           16             997  "
      ]
     },
     "execution_count": 15,
     "metadata": {},
     "output_type": "execute_result"
    }
   ],
   "source": [
    "data.tail(2)"
   ]
  },
  {
   "cell_type": "code",
   "execution_count": 16,
   "metadata": {},
   "outputs": [],
   "source": [
    "data.to_csv('covid19-Turkey.csv')"
   ]
  },
  {
   "cell_type": "code",
   "execution_count": null,
   "metadata": {},
   "outputs": [],
   "source": []
  }
 ],
 "metadata": {
  "kernelspec": {
   "display_name": "Python 3",
   "language": "python",
   "name": "python3"
  },
  "language_info": {
   "codemirror_mode": {
    "name": "ipython",
    "version": 3
   },
   "file_extension": ".py",
   "mimetype": "text/x-python",
   "name": "python",
   "nbconvert_exporter": "python",
   "pygments_lexer": "ipython3",
   "version": "3.8.1"
  }
 },
 "nbformat": 4,
 "nbformat_minor": 4
}
