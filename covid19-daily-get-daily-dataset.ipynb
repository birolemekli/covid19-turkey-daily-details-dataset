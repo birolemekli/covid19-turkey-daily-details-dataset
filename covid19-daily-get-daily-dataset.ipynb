{
 "cells": [
  {
   "cell_type": "code",
   "execution_count": 1,
   "metadata": {},
   "outputs": [],
   "source": [
    "#!pip -q install requests_html"
   ]
  },
  {
   "cell_type": "code",
   "execution_count": 2,
   "metadata": {},
   "outputs": [],
   "source": [
    "import requests\n",
    "import time\n",
    "import datetime\n",
    "from requests_html import HTMLSession\n",
    "import pandas as pd\n",
    "\n",
    "# HDFS dosya aktarma için\n",
    "from hdfs import InsecureClient\n",
    "import os"
   ]
  },
  {
   "cell_type": "code",
   "execution_count": 3,
   "metadata": {},
   "outputs": [],
   "source": [
    "data=pd.read_csv(\"./covid19-Turkey.csv\",index_col=\"date\")"
   ]
  },
  {
   "cell_type": "code",
   "execution_count": 4,
   "metadata": {},
   "outputs": [
    {
     "data": {
      "text/html": [
       "<div>\n",
       "<style scoped>\n",
       "    .dataframe tbody tr th:only-of-type {\n",
       "        vertical-align: middle;\n",
       "    }\n",
       "\n",
       "    .dataframe tbody tr th {\n",
       "        vertical-align: top;\n",
       "    }\n",
       "\n",
       "    .dataframe thead th {\n",
       "        text-align: right;\n",
       "    }\n",
       "</style>\n",
       "<table border=\"1\" class=\"dataframe\">\n",
       "  <thead>\n",
       "    <tr style=\"text-align: right;\">\n",
       "      <th></th>\n",
       "      <th>totalTests</th>\n",
       "      <th>totalCases</th>\n",
       "      <th>totalDeaths</th>\n",
       "      <th>totalIntensiveCare</th>\n",
       "      <th>totalIntubated</th>\n",
       "      <th>totalRecovered</th>\n",
       "      <th>dailyTests</th>\n",
       "      <th>dailyCases</th>\n",
       "      <th>dailyDeaths</th>\n",
       "      <th>dailyRecovered</th>\n",
       "    </tr>\n",
       "    <tr>\n",
       "      <th>date</th>\n",
       "      <th></th>\n",
       "      <th></th>\n",
       "      <th></th>\n",
       "      <th></th>\n",
       "      <th></th>\n",
       "      <th></th>\n",
       "      <th></th>\n",
       "      <th></th>\n",
       "      <th></th>\n",
       "      <th></th>\n",
       "    </tr>\n",
       "  </thead>\n",
       "  <tbody>\n",
       "    <tr>\n",
       "      <td>2020-07-25</td>\n",
       "      <td>4532672</td>\n",
       "      <td>225173</td>\n",
       "      <td>5596</td>\n",
       "      <td>1252</td>\n",
       "      <td>386</td>\n",
       "      <td>208477</td>\n",
       "      <td>43312</td>\n",
       "      <td>921</td>\n",
       "      <td>16</td>\n",
       "      <td>1103</td>\n",
       "    </tr>\n",
       "    <tr>\n",
       "      <td>2020-07-26</td>\n",
       "      <td>4572688</td>\n",
       "      <td>226100</td>\n",
       "      <td>5613</td>\n",
       "      <td>1249</td>\n",
       "      <td>387</td>\n",
       "      <td>209487</td>\n",
       "      <td>40016</td>\n",
       "      <td>927</td>\n",
       "      <td>17</td>\n",
       "      <td>1010</td>\n",
       "    </tr>\n",
       "    <tr>\n",
       "      <td>2020-07-27</td>\n",
       "      <td>4617971</td>\n",
       "      <td>227019</td>\n",
       "      <td>5630</td>\n",
       "      <td>1263</td>\n",
       "      <td>392</td>\n",
       "      <td>210469</td>\n",
       "      <td>45283</td>\n",
       "      <td>919</td>\n",
       "      <td>17</td>\n",
       "      <td>982</td>\n",
       "    </tr>\n",
       "  </tbody>\n",
       "</table>\n",
       "</div>"
      ],
      "text/plain": [
       "            totalTests  totalCases  totalDeaths  totalIntensiveCare  \\\n",
       "date                                                                  \n",
       "2020-07-25     4532672      225173         5596                1252   \n",
       "2020-07-26     4572688      226100         5613                1249   \n",
       "2020-07-27     4617971      227019         5630                1263   \n",
       "\n",
       "            totalIntubated  totalRecovered  dailyTests  dailyCases  \\\n",
       "date                                                                 \n",
       "2020-07-25             386          208477       43312         921   \n",
       "2020-07-26             387          209487       40016         927   \n",
       "2020-07-27             392          210469       45283         919   \n",
       "\n",
       "            dailyDeaths  dailyRecovered  \n",
       "date                                     \n",
       "2020-07-25           16            1103  \n",
       "2020-07-26           17            1010  \n",
       "2020-07-27           17             982  "
      ]
     },
     "execution_count": 4,
     "metadata": {},
     "output_type": "execute_result"
    }
   ],
   "source": [
    "data.tail(3)"
   ]
  },
  {
   "cell_type": "code",
   "execution_count": 5,
   "metadata": {},
   "outputs": [],
   "source": [
    "url = \"https://covid19.saglik.gov.tr/\""
   ]
  },
  {
   "cell_type": "code",
   "execution_count": 6,
   "metadata": {},
   "outputs": [],
   "source": [
    "session = HTMLSession()\n",
    "response = session.get(url)\n",
    "title = response.html.find('title', first=True).text"
   ]
  },
  {
   "cell_type": "code",
   "execution_count": 7,
   "metadata": {},
   "outputs": [],
   "source": [
    "totalTests = response.html.xpath('/html/body/div/div[2]/div/div[3]/div[1]/div/div/div/div/div[2]/div[1]/div[1]/div[1]/div/ul/li[1]/span[2]')\n",
    "totalTests=int(totalTests[0].text.replace('.',''))\n",
    "totalCases = response.html.xpath('/html/body/div/div[2]/div/div[3]/div[1]/div/div/div/div/div[2]/div[1]/div[1]/div[1]/div/ul/li[2]/span[2]')\n",
    "totalCases=int(totalCases[0].text.replace('.',''))\n",
    "totalDeath = response.html.xpath('/html/body/div/div[2]/div/div[3]/div[1]/div/div/div/div/div[2]/div[1]/div[1]/div[1]/div/ul/li[3]/span[2]')\n",
    "totalDeath=int(totalDeath[0].text.replace('.',''))\n",
    "totalIntensiveCare = response.html.xpath('/html/body/div/div[2]/div/div[3]/div[1]/div/div/div/div/div[2]/div[1]/div[1]/div[1]/div/ul/li[4]/span[2]')\n",
    "totalIntensiveCare=int(totalIntensiveCare[0].text.replace('.',''))\n",
    "totalIntubated = response.html.xpath('/html/body/div/div[2]/div/div[3]/div[1]/div/div/div/div/div[2]/div[1]/div[1]/div[1]/div/ul/li[5]/span[2]')\n",
    "totalIntubated=int(totalIntubated[0].text.replace('.',''))\n",
    "totalRecovered = response.html.xpath('/html/body/div/div[2]/div/div[3]/div[1]/div/div/div/div/div[2]/div[1]/div[1]/div[1]/div/ul/li[6]/span[2]')\n",
    "totalRecovered=int(totalRecovered[0].text.replace('.',''))\n",
    "dailyTest = response.html.xpath('/html/body/div/div[2]/div/div[3]/div[1]/div/div/div/div/div[2]/div[2]/div/ul/li[1]/span[2]')\n",
    "dailyTest=int(dailyTest[0].text.replace('.',''))\n",
    "dailyCases = response.html.xpath('/html/body/div/div[2]/div/div[3]/div[1]/div/div/div/div/div[2]/div[2]/div/ul/li[2]/span[2]')\n",
    "dailyCases=int(dailyCases[0].text.replace('.',''))\n",
    "dailyDeath = response.html.xpath('/html/body/div/div[2]/div/div[3]/div[1]/div/div/div/div/div[2]/div[2]/div/ul/li[3]/span[2]')\n",
    "dailyDeath=int(dailyDeath[0].text.replace('.',''))\n",
    "dailyRecovered = response.html.xpath('/html/body/div/div[2]/div/div[3]/div[1]/div/div/div/div/div[2]/div[2]/div/ul/li[4]/span[2]')\n",
    "dailyRecovered=int(dailyRecovered[0].text.replace('.',''))\n",
    "date=datetime.datetime.now().strftime(\"%Y-%m-%d\")"
   ]
  },
  {
   "cell_type": "code",
   "execution_count": 8,
   "metadata": {},
   "outputs": [
    {
     "name": "stdout",
     "output_type": "stream",
     "text": [
      "******* TURKEY MINISTRY OF HEALTH *******\n",
      "                DATE: 2020-07-29  \n",
      "          TOTAL TEST: 4665383  \n",
      "         TOTAL CASES: 227982  \n",
      "         TOTAL DEATH: 5645  \n",
      "TOTAL INTENSIVE CATE: 1280  \n",
      "     TOTAL INTUBATED: 403  \n",
      "     TOTAL RECOVERED: 211561  \n",
      "          DAILY TEST: 47412  \n",
      "         DAILY CASES: 963  \n",
      "         DAILY DEATH: 15  \n",
      "     DAILY RECOVERED: 1092  \n"
     ]
    }
   ],
   "source": [
    "print(\"******* TURKEY MINISTRY OF HEALTH *******\")\n",
    "print(\"                DATE: %s  \" %(date),\n",
    "      \"          TOTAL TEST: %s  \" %(totalTests), \n",
    "      \"         TOTAL CASES: %s  \" %(totalCases), \n",
    "      \"         TOTAL DEATH: %s  \" %(totalDeath), \n",
    "      \"TOTAL INTENSIVE CATE: %s  \" %(totalIntensiveCare), \n",
    "      \"     TOTAL INTUBATED: %s  \" %(totalIntubated), \n",
    "      \"     TOTAL RECOVERED: %s  \" %(totalRecovered), \n",
    "      \"          DAILY TEST: %s  \" %(dailyTest), \n",
    "      \"         DAILY CASES: %s  \" %(dailyCases), \n",
    "      \"         DAILY DEATH: %s  \" %(dailyDeath), \n",
    "      \"     DAILY RECOVERED: %s  \" %(dailyRecovered), \n",
    "      sep=\"\\n\")"
   ]
  },
  {
   "cell_type": "code",
   "execution_count": 9,
   "metadata": {},
   "outputs": [
    {
     "data": {
      "text/html": [
       "<div>\n",
       "<style scoped>\n",
       "    .dataframe tbody tr th:only-of-type {\n",
       "        vertical-align: middle;\n",
       "    }\n",
       "\n",
       "    .dataframe tbody tr th {\n",
       "        vertical-align: top;\n",
       "    }\n",
       "\n",
       "    .dataframe thead th {\n",
       "        text-align: right;\n",
       "    }\n",
       "</style>\n",
       "<table border=\"1\" class=\"dataframe\">\n",
       "  <thead>\n",
       "    <tr style=\"text-align: right;\">\n",
       "      <th></th>\n",
       "      <th>totalTests</th>\n",
       "      <th>totalCases</th>\n",
       "      <th>totalDeaths</th>\n",
       "      <th>totalIntensiveCare</th>\n",
       "      <th>totalIntubated</th>\n",
       "      <th>totalRecovered</th>\n",
       "      <th>dailyTests</th>\n",
       "      <th>dailyCases</th>\n",
       "      <th>dailyDeaths</th>\n",
       "      <th>dailyRecovered</th>\n",
       "    </tr>\n",
       "    <tr>\n",
       "      <th>date</th>\n",
       "      <th></th>\n",
       "      <th></th>\n",
       "      <th></th>\n",
       "      <th></th>\n",
       "      <th></th>\n",
       "      <th></th>\n",
       "      <th></th>\n",
       "      <th></th>\n",
       "      <th></th>\n",
       "      <th></th>\n",
       "    </tr>\n",
       "  </thead>\n",
       "  <tbody>\n",
       "    <tr>\n",
       "      <td>2020-07-29</td>\n",
       "      <td>4665383</td>\n",
       "      <td>227982</td>\n",
       "      <td>5645</td>\n",
       "      <td>1280</td>\n",
       "      <td>403</td>\n",
       "      <td>211561</td>\n",
       "      <td>47412</td>\n",
       "      <td>963</td>\n",
       "      <td>15</td>\n",
       "      <td>1092</td>\n",
       "    </tr>\n",
       "  </tbody>\n",
       "</table>\n",
       "</div>"
      ],
      "text/plain": [
       "            totalTests  totalCases  totalDeaths  totalIntensiveCare  \\\n",
       "date                                                                  \n",
       "2020-07-29     4665383      227982         5645                1280   \n",
       "\n",
       "            totalIntubated  totalRecovered  dailyTests  dailyCases  \\\n",
       "date                                                                 \n",
       "2020-07-29             403          211561       47412         963   \n",
       "\n",
       "            dailyDeaths  dailyRecovered  \n",
       "date                                     \n",
       "2020-07-29           15            1092  "
      ]
     },
     "execution_count": 9,
     "metadata": {},
     "output_type": "execute_result"
    }
   ],
   "source": [
    "yeni_data = pd.DataFrame({\n",
    "                           \"date\":[date],\n",
    "                            \"totalTests\":[totalTests],\n",
    "                            \"totalCases\":[totalCases],\n",
    "                            \"totalDeaths\":[totalDeath],\n",
    "                            \"totalIntensiveCare\":[totalIntensiveCare],\n",
    "                            \"totalIntubated\":[totalIntubated],\n",
    "                            \"totalRecovered\":[totalRecovered],\n",
    "                            \"dailyTests\":[dailyTest],\n",
    "                            \"dailyCases\":[dailyCases],\n",
    "                            \"dailyDeaths\":[dailyDeath],\n",
    "                            \"dailyRecovered\":[dailyRecovered]\n",
    "                         }) \n",
    "yeni_data=yeni_data.set_index('date')\n",
    "yeni_data.index=pd.to_datetime(yeni_data.index, format ='%Y-%m-%d')\n",
    "yeni_data"
   ]
  },
  {
   "cell_type": "code",
   "execution_count": 10,
   "metadata": {},
   "outputs": [
    {
     "name": "stdout",
     "output_type": "stream",
     "text": [
      "Yeni veri eklendi\n"
     ]
    }
   ],
   "source": [
    "for i in yeni_data.index.to_list():\n",
    "    if i not in data.index.to_list():\n",
    "        data=data.append(yeni_data)\n",
    "        print(\"Yeni veri eklendi\")"
   ]
  },
  {
   "cell_type": "code",
   "execution_count": 11,
   "metadata": {},
   "outputs": [],
   "source": [
    "data.index = pd.to_datetime(data.index, format ='%Y-%m-%d')"
   ]
  },
  {
   "cell_type": "code",
   "execution_count": 12,
   "metadata": {},
   "outputs": [
    {
     "data": {
      "text/html": [
       "<div>\n",
       "<style scoped>\n",
       "    .dataframe tbody tr th:only-of-type {\n",
       "        vertical-align: middle;\n",
       "    }\n",
       "\n",
       "    .dataframe tbody tr th {\n",
       "        vertical-align: top;\n",
       "    }\n",
       "\n",
       "    .dataframe thead th {\n",
       "        text-align: right;\n",
       "    }\n",
       "</style>\n",
       "<table border=\"1\" class=\"dataframe\">\n",
       "  <thead>\n",
       "    <tr style=\"text-align: right;\">\n",
       "      <th></th>\n",
       "      <th>totalTests</th>\n",
       "      <th>totalCases</th>\n",
       "      <th>totalDeaths</th>\n",
       "      <th>totalIntensiveCare</th>\n",
       "      <th>totalIntubated</th>\n",
       "      <th>totalRecovered</th>\n",
       "      <th>dailyTests</th>\n",
       "      <th>dailyCases</th>\n",
       "      <th>dailyDeaths</th>\n",
       "      <th>dailyRecovered</th>\n",
       "    </tr>\n",
       "    <tr>\n",
       "      <th>date</th>\n",
       "      <th></th>\n",
       "      <th></th>\n",
       "      <th></th>\n",
       "      <th></th>\n",
       "      <th></th>\n",
       "      <th></th>\n",
       "      <th></th>\n",
       "      <th></th>\n",
       "      <th></th>\n",
       "      <th></th>\n",
       "    </tr>\n",
       "  </thead>\n",
       "  <tbody>\n",
       "    <tr>\n",
       "      <td>2020-07-27</td>\n",
       "      <td>4617971</td>\n",
       "      <td>227019</td>\n",
       "      <td>5630</td>\n",
       "      <td>1263</td>\n",
       "      <td>392</td>\n",
       "      <td>210469</td>\n",
       "      <td>45283</td>\n",
       "      <td>919</td>\n",
       "      <td>17</td>\n",
       "      <td>982</td>\n",
       "    </tr>\n",
       "    <tr>\n",
       "      <td>2020-07-29</td>\n",
       "      <td>4665383</td>\n",
       "      <td>227982</td>\n",
       "      <td>5645</td>\n",
       "      <td>1280</td>\n",
       "      <td>403</td>\n",
       "      <td>211561</td>\n",
       "      <td>47412</td>\n",
       "      <td>963</td>\n",
       "      <td>15</td>\n",
       "      <td>1092</td>\n",
       "    </tr>\n",
       "  </tbody>\n",
       "</table>\n",
       "</div>"
      ],
      "text/plain": [
       "            totalTests  totalCases  totalDeaths  totalIntensiveCare  \\\n",
       "date                                                                  \n",
       "2020-07-27     4617971      227019         5630                1263   \n",
       "2020-07-29     4665383      227982         5645                1280   \n",
       "\n",
       "            totalIntubated  totalRecovered  dailyTests  dailyCases  \\\n",
       "date                                                                 \n",
       "2020-07-27             392          210469       45283         919   \n",
       "2020-07-29             403          211561       47412         963   \n",
       "\n",
       "            dailyDeaths  dailyRecovered  \n",
       "date                                     \n",
       "2020-07-27           17             982  \n",
       "2020-07-29           15            1092  "
      ]
     },
     "execution_count": 12,
     "metadata": {},
     "output_type": "execute_result"
    }
   ],
   "source": [
    "data.tail(2)"
   ]
  },
  {
   "cell_type": "code",
   "execution_count": 13,
   "metadata": {},
   "outputs": [],
   "source": [
    "data.to_csv('covid19-Turkey.csv')"
   ]
  },
  {
   "cell_type": "code",
   "execution_count": 1,
   "metadata": {},
   "outputs": [
    {
     "name": "stdout",
     "output_type": "stream",
     "text": [
      "Collecting hdfs\n",
      "  Downloading hdfs-2.5.8.tar.gz (41 kB)\n",
      "\u001b[K     |████████████████████████████████| 41 kB 446 kB/s eta 0:00:01\n",
      "\u001b[?25hCollecting docopt\n",
      "  Downloading docopt-0.6.2.tar.gz (25 kB)\n",
      "Requirement already satisfied: requests>=2.7.0 in /Users/macbook/opt/anaconda3/lib/python3.8/site-packages (from hdfs) (2.24.0)\n",
      "Requirement already satisfied: six>=1.9.0 in /Users/macbook/opt/anaconda3/lib/python3.8/site-packages (from hdfs) (1.15.0)\n",
      "Requirement already satisfied: certifi>=2017.4.17 in /Users/macbook/opt/anaconda3/lib/python3.8/site-packages (from requests>=2.7.0->hdfs) (2020.6.20)\n",
      "Requirement already satisfied: urllib3!=1.25.0,!=1.25.1,<1.26,>=1.21.1 in /Users/macbook/opt/anaconda3/lib/python3.8/site-packages (from requests>=2.7.0->hdfs) (1.25.9)\n",
      "Requirement already satisfied: idna<3,>=2.5 in /Users/macbook/opt/anaconda3/lib/python3.8/site-packages (from requests>=2.7.0->hdfs) (2.10)\n",
      "Requirement already satisfied: chardet<4,>=3.0.2 in /Users/macbook/opt/anaconda3/lib/python3.8/site-packages (from requests>=2.7.0->hdfs) (3.0.4)\n",
      "Building wheels for collected packages: hdfs, docopt\n",
      "  Building wheel for hdfs (setup.py) ... \u001b[?25ldone\n",
      "\u001b[?25h  Created wheel for hdfs: filename=hdfs-2.5.8-py3-none-any.whl size=33213 sha256=30a1f322929459f76e8180a26de2a2b0c1eb58b11a70d5e981da8bdff53103c1\n",
      "  Stored in directory: /Users/macbook/Library/Caches/pip/wheels/43/cb/59/3fdce328ada746ea437798538a9808e4f730135f5a26f137a4\n",
      "  Building wheel for docopt (setup.py) ... \u001b[?25ldone\n",
      "\u001b[?25h  Created wheel for docopt: filename=docopt-0.6.2-py2.py3-none-any.whl size=13704 sha256=128213af28dfcffb31bcf1464d0c18e4da370c4d56fff2ee819fc58460e383e0\n",
      "  Stored in directory: /Users/macbook/Library/Caches/pip/wheels/56/ea/58/ead137b087d9e326852a851351d1debf4ada529b6ac0ec4e8c\n",
      "Successfully built hdfs docopt\n",
      "Installing collected packages: docopt, hdfs\n",
      "Successfully installed docopt-0.6.2 hdfs-2.5.8\n"
     ]
    }
   ],
   "source": [
    "!pip install hdfs"
   ]
  },
  {
   "cell_type": "code",
   "execution_count": 53,
   "metadata": {},
   "outputs": [],
   "source": [
    "client_hdfs = InsecureClient('http://192.168.1.37:50070',user='cloudera')"
   ]
  },
  {
   "cell_type": "code",
   "execution_count": 48,
   "metadata": {},
   "outputs": [],
   "source": [
    "client_hdfs.makedirs('/user/turkey-covid-dataset')"
   ]
  },
  {
   "cell_type": "code",
   "execution_count": 47,
   "metadata": {},
   "outputs": [
    {
     "data": {
      "text/plain": [
       "['admin',\n",
       " 'cloudera',\n",
       " 'hdfs',\n",
       " 'history',\n",
       " 'hive',\n",
       " 'oozie',\n",
       " 'spark',\n",
       " 'test',\n",
       " 'turkey-covid-dataset']"
      ]
     },
     "execution_count": 47,
     "metadata": {},
     "output_type": "execute_result"
    }
   ],
   "source": [
    "client_hdfs.list('/user/')"
   ]
  },
  {
   "cell_type": "code",
   "execution_count": 49,
   "metadata": {},
   "outputs": [
    {
     "data": {
      "text/plain": [
       "['covid19-Turkey.csv']"
      ]
     },
     "execution_count": 49,
     "metadata": {},
     "output_type": "execute_result"
    }
   ],
   "source": [
    "client_hdfs.list('/user/turkey-covid-dataset')"
   ]
  },
  {
   "cell_type": "code",
   "execution_count": 61,
   "metadata": {},
   "outputs": [
    {
     "data": {
      "text/plain": [
       "'/user/turkey-covid-dataset/covid19-Turkey.csv'"
      ]
     },
     "execution_count": 61,
     "metadata": {},
     "output_type": "execute_result"
    }
   ],
   "source": [
    "client_hdfs.upload('/user/turkey-covid-dataset/','./covid19-Turkey.csv',overwrite=True)"
   ]
  },
  {
   "cell_type": "code",
   "execution_count": 62,
   "metadata": {},
   "outputs": [],
   "source": [
    "#client_hdfs.delete('/user/turkey-covid-dataset/covid19-Turkey.csv')"
   ]
  },
  {
   "cell_type": "code",
   "execution_count": 64,
   "metadata": {},
   "outputs": [],
   "source": [
    "with client_hdfs.read('/user/turkey-covid-dataset/covid19-Turkey.csv', encoding = 'utf-8') as reader:\n",
    "    df = pd.read_csv(reader,index_col=0)"
   ]
  },
  {
   "cell_type": "code",
   "execution_count": 66,
   "metadata": {},
   "outputs": [
    {
     "data": {
      "text/html": [
       "<div>\n",
       "<style scoped>\n",
       "    .dataframe tbody tr th:only-of-type {\n",
       "        vertical-align: middle;\n",
       "    }\n",
       "\n",
       "    .dataframe tbody tr th {\n",
       "        vertical-align: top;\n",
       "    }\n",
       "\n",
       "    .dataframe thead th {\n",
       "        text-align: right;\n",
       "    }\n",
       "</style>\n",
       "<table border=\"1\" class=\"dataframe\">\n",
       "  <thead>\n",
       "    <tr style=\"text-align: right;\">\n",
       "      <th></th>\n",
       "      <th>totalTests</th>\n",
       "      <th>totalCases</th>\n",
       "      <th>totalDeaths</th>\n",
       "      <th>totalIntensiveCare</th>\n",
       "      <th>totalIntubated</th>\n",
       "      <th>totalRecovered</th>\n",
       "      <th>dailyTests</th>\n",
       "      <th>dailyCases</th>\n",
       "      <th>dailyDeaths</th>\n",
       "      <th>dailyRecovered</th>\n",
       "    </tr>\n",
       "    <tr>\n",
       "      <th>date</th>\n",
       "      <th></th>\n",
       "      <th></th>\n",
       "      <th></th>\n",
       "      <th></th>\n",
       "      <th></th>\n",
       "      <th></th>\n",
       "      <th></th>\n",
       "      <th></th>\n",
       "      <th></th>\n",
       "      <th></th>\n",
       "    </tr>\n",
       "  </thead>\n",
       "  <tbody>\n",
       "    <tr>\n",
       "      <th>2020-07-24</th>\n",
       "      <td>4489360</td>\n",
       "      <td>224252</td>\n",
       "      <td>5580</td>\n",
       "      <td>1248</td>\n",
       "      <td>379</td>\n",
       "      <td>207374</td>\n",
       "      <td>42986</td>\n",
       "      <td>937</td>\n",
       "      <td>17</td>\n",
       "      <td>1009</td>\n",
       "    </tr>\n",
       "    <tr>\n",
       "      <th>2020-07-25</th>\n",
       "      <td>4532672</td>\n",
       "      <td>225173</td>\n",
       "      <td>5596</td>\n",
       "      <td>1252</td>\n",
       "      <td>386</td>\n",
       "      <td>208477</td>\n",
       "      <td>43312</td>\n",
       "      <td>921</td>\n",
       "      <td>16</td>\n",
       "      <td>1103</td>\n",
       "    </tr>\n",
       "    <tr>\n",
       "      <th>2020-07-26</th>\n",
       "      <td>4572688</td>\n",
       "      <td>226100</td>\n",
       "      <td>5613</td>\n",
       "      <td>1249</td>\n",
       "      <td>387</td>\n",
       "      <td>209487</td>\n",
       "      <td>40016</td>\n",
       "      <td>927</td>\n",
       "      <td>17</td>\n",
       "      <td>1010</td>\n",
       "    </tr>\n",
       "    <tr>\n",
       "      <th>2020-07-27</th>\n",
       "      <td>4617971</td>\n",
       "      <td>227019</td>\n",
       "      <td>5630</td>\n",
       "      <td>1263</td>\n",
       "      <td>392</td>\n",
       "      <td>210469</td>\n",
       "      <td>45283</td>\n",
       "      <td>919</td>\n",
       "      <td>17</td>\n",
       "      <td>982</td>\n",
       "    </tr>\n",
       "    <tr>\n",
       "      <th>2020-07-28</th>\n",
       "      <td>4665383</td>\n",
       "      <td>227982</td>\n",
       "      <td>5645</td>\n",
       "      <td>1280</td>\n",
       "      <td>403</td>\n",
       "      <td>211561</td>\n",
       "      <td>47412</td>\n",
       "      <td>963</td>\n",
       "      <td>15</td>\n",
       "      <td>1092</td>\n",
       "    </tr>\n",
       "  </tbody>\n",
       "</table>\n",
       "</div>"
      ],
      "text/plain": [
       "            totalTests  totalCases  totalDeaths  totalIntensiveCare  \\\n",
       "date                                                                  \n",
       "2020-07-24     4489360      224252         5580                1248   \n",
       "2020-07-25     4532672      225173         5596                1252   \n",
       "2020-07-26     4572688      226100         5613                1249   \n",
       "2020-07-27     4617971      227019         5630                1263   \n",
       "2020-07-28     4665383      227982         5645                1280   \n",
       "\n",
       "            totalIntubated  totalRecovered  dailyTests  dailyCases  \\\n",
       "date                                                                 \n",
       "2020-07-24             379          207374       42986         937   \n",
       "2020-07-25             386          208477       43312         921   \n",
       "2020-07-26             387          209487       40016         927   \n",
       "2020-07-27             392          210469       45283         919   \n",
       "2020-07-28             403          211561       47412         963   \n",
       "\n",
       "            dailyDeaths  dailyRecovered  \n",
       "date                                     \n",
       "2020-07-24           17            1009  \n",
       "2020-07-25           16            1103  \n",
       "2020-07-26           17            1010  \n",
       "2020-07-27           17             982  \n",
       "2020-07-28           15            1092  "
      ]
     },
     "execution_count": 66,
     "metadata": {},
     "output_type": "execute_result"
    }
   ],
   "source": [
    "df.tail()"
   ]
  },
  {
   "cell_type": "code",
   "execution_count": null,
   "metadata": {},
   "outputs": [],
   "source": []
  }
 ],
 "metadata": {
  "kernelspec": {
   "display_name": "Python 3",
   "language": "python",
   "name": "python3"
  },
  "language_info": {
   "codemirror_mode": {
    "name": "ipython",
    "version": 3
   },
   "file_extension": ".py",
   "mimetype": "text/x-python",
   "name": "python",
   "nbconvert_exporter": "python",
   "pygments_lexer": "ipython3",
   "version": "3.8.3"
  }
 },
 "nbformat": 4,
 "nbformat_minor": 4
}
