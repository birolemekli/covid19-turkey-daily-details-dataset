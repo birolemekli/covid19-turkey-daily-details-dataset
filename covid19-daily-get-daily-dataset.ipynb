{
 "cells": [
  {
   "cell_type": "code",
   "execution_count": 1,
   "metadata": {},
   "outputs": [],
   "source": [
    "#!pip -q install requests_html"
   ]
  },
  {
   "cell_type": "code",
   "execution_count": 2,
   "metadata": {},
   "outputs": [],
   "source": [
    "import requests\n",
    "import time\n",
    "import datetime\n",
    "from requests_html import HTMLSession\n",
    "import pandas as pd"
   ]
  },
  {
   "cell_type": "code",
   "execution_count": 3,
   "metadata": {},
   "outputs": [],
   "source": [
    "data=pd.read_csv(\"./covid19-Turkey.csv\",index_col=\"date\")"
   ]
  },
  {
   "cell_type": "code",
   "execution_count": 4,
   "metadata": {},
   "outputs": [
    {
     "data": {
      "text/html": [
       "<div>\n",
       "<style scoped>\n",
       "    .dataframe tbody tr th:only-of-type {\n",
       "        vertical-align: middle;\n",
       "    }\n",
       "\n",
       "    .dataframe tbody tr th {\n",
       "        vertical-align: top;\n",
       "    }\n",
       "\n",
       "    .dataframe thead th {\n",
       "        text-align: right;\n",
       "    }\n",
       "</style>\n",
       "<table border=\"1\" class=\"dataframe\">\n",
       "  <thead>\n",
       "    <tr style=\"text-align: right;\">\n",
       "      <th></th>\n",
       "      <th>totalTests</th>\n",
       "      <th>totalCases</th>\n",
       "      <th>totalDeaths</th>\n",
       "      <th>totalIntensiveCare</th>\n",
       "      <th>totalIntubated</th>\n",
       "      <th>totalRecovered</th>\n",
       "      <th>dailyTests</th>\n",
       "      <th>dailyCases</th>\n",
       "      <th>dailyDeaths</th>\n",
       "      <th>dailyRecovered</th>\n",
       "    </tr>\n",
       "    <tr>\n",
       "      <th>date</th>\n",
       "      <th></th>\n",
       "      <th></th>\n",
       "      <th></th>\n",
       "      <th></th>\n",
       "      <th></th>\n",
       "      <th></th>\n",
       "      <th></th>\n",
       "      <th></th>\n",
       "      <th></th>\n",
       "      <th></th>\n",
       "    </tr>\n",
       "  </thead>\n",
       "  <tbody>\n",
       "    <tr>\n",
       "      <td>2020-07-25</td>\n",
       "      <td>4532672</td>\n",
       "      <td>225173</td>\n",
       "      <td>5596</td>\n",
       "      <td>1252</td>\n",
       "      <td>386</td>\n",
       "      <td>208477</td>\n",
       "      <td>43312</td>\n",
       "      <td>921</td>\n",
       "      <td>16</td>\n",
       "      <td>1103</td>\n",
       "    </tr>\n",
       "    <tr>\n",
       "      <td>2020-07-26</td>\n",
       "      <td>4572688</td>\n",
       "      <td>226100</td>\n",
       "      <td>5613</td>\n",
       "      <td>1249</td>\n",
       "      <td>387</td>\n",
       "      <td>209487</td>\n",
       "      <td>40016</td>\n",
       "      <td>927</td>\n",
       "      <td>17</td>\n",
       "      <td>1010</td>\n",
       "    </tr>\n",
       "    <tr>\n",
       "      <td>2020-07-27</td>\n",
       "      <td>4617971</td>\n",
       "      <td>227019</td>\n",
       "      <td>5630</td>\n",
       "      <td>1263</td>\n",
       "      <td>392</td>\n",
       "      <td>210469</td>\n",
       "      <td>45283</td>\n",
       "      <td>919</td>\n",
       "      <td>17</td>\n",
       "      <td>982</td>\n",
       "    </tr>\n",
       "  </tbody>\n",
       "</table>\n",
       "</div>"
      ],
      "text/plain": [
       "            totalTests  totalCases  totalDeaths  totalIntensiveCare  \\\n",
       "date                                                                  \n",
       "2020-07-25     4532672      225173         5596                1252   \n",
       "2020-07-26     4572688      226100         5613                1249   \n",
       "2020-07-27     4617971      227019         5630                1263   \n",
       "\n",
       "            totalIntubated  totalRecovered  dailyTests  dailyCases  \\\n",
       "date                                                                 \n",
       "2020-07-25             386          208477       43312         921   \n",
       "2020-07-26             387          209487       40016         927   \n",
       "2020-07-27             392          210469       45283         919   \n",
       "\n",
       "            dailyDeaths  dailyRecovered  \n",
       "date                                     \n",
       "2020-07-25           16            1103  \n",
       "2020-07-26           17            1010  \n",
       "2020-07-27           17             982  "
      ]
     },
     "execution_count": 4,
     "metadata": {},
     "output_type": "execute_result"
    }
   ],
   "source": [
    "data.tail(3)"
   ]
  },
  {
   "cell_type": "code",
   "execution_count": 5,
   "metadata": {},
   "outputs": [],
   "source": [
    "url = \"https://covid19.saglik.gov.tr/\""
   ]
  },
  {
   "cell_type": "code",
   "execution_count": 6,
   "metadata": {},
   "outputs": [],
   "source": [
    "session = HTMLSession()\n",
    "response = session.get(url)\n",
    "title = response.html.find('title', first=True).text"
   ]
  },
  {
   "cell_type": "code",
   "execution_count": 7,
   "metadata": {},
   "outputs": [],
   "source": [
    "totalTests = response.html.xpath('/html/body/div/div[2]/div/div[3]/div[1]/div/div/div/div/div[2]/div[1]/div[1]/div[1]/div/ul/li[1]/span[2]')\n",
    "totalTests=int(totalTests[0].text.replace('.',''))\n",
    "totalCases = response.html.xpath('/html/body/div/div[2]/div/div[3]/div[1]/div/div/div/div/div[2]/div[1]/div[1]/div[1]/div/ul/li[2]/span[2]')\n",
    "totalCases=int(totalCases[0].text.replace('.',''))\n",
    "totalDeath = response.html.xpath('/html/body/div/div[2]/div/div[3]/div[1]/div/div/div/div/div[2]/div[1]/div[1]/div[1]/div/ul/li[3]/span[2]')\n",
    "totalDeath=int(totalDeath[0].text.replace('.',''))\n",
    "totalIntensiveCare = response.html.xpath('/html/body/div/div[2]/div/div[3]/div[1]/div/div/div/div/div[2]/div[1]/div[1]/div[1]/div/ul/li[4]/span[2]')\n",
    "totalIntensiveCare=int(totalIntensiveCare[0].text.replace('.',''))\n",
    "totalIntubated = response.html.xpath('/html/body/div/div[2]/div/div[3]/div[1]/div/div/div/div/div[2]/div[1]/div[1]/div[1]/div/ul/li[5]/span[2]')\n",
    "totalIntubated=int(totalIntubated[0].text.replace('.',''))\n",
    "totalRecovered = response.html.xpath('/html/body/div/div[2]/div/div[3]/div[1]/div/div/div/div/div[2]/div[1]/div[1]/div[1]/div/ul/li[6]/span[2]')\n",
    "totalRecovered=int(totalRecovered[0].text.replace('.',''))\n",
    "dailyTest = response.html.xpath('/html/body/div/div[2]/div/div[3]/div[1]/div/div/div/div/div[2]/div[2]/div/ul/li[1]/span[2]')\n",
    "dailyTest=int(dailyTest[0].text.replace('.',''))\n",
    "dailyCases = response.html.xpath('/html/body/div/div[2]/div/div[3]/div[1]/div/div/div/div/div[2]/div[2]/div/ul/li[2]/span[2]')\n",
    "dailyCases=int(dailyCases[0].text.replace('.',''))\n",
    "dailyDeath = response.html.xpath('/html/body/div/div[2]/div/div[3]/div[1]/div/div/div/div/div[2]/div[2]/div/ul/li[3]/span[2]')\n",
    "dailyDeath=int(dailyDeath[0].text.replace('.',''))\n",
    "dailyRecovered = response.html.xpath('/html/body/div/div[2]/div/div[3]/div[1]/div/div/div/div/div[2]/div[2]/div/ul/li[4]/span[2]')\n",
    "dailyRecovered=int(dailyRecovered[0].text.replace('.',''))\n",
    "date=datetime.datetime.now().strftime(\"%Y-%m-%d\")"
   ]
  },
  {
   "cell_type": "code",
   "execution_count": 8,
   "metadata": {},
   "outputs": [
    {
     "name": "stdout",
     "output_type": "stream",
     "text": [
      "******* TURKEY MINISTRY OF HEALTH *******\n",
      "                DATE: 2020-07-29  \n",
      "          TOTAL TEST: 4665383  \n",
      "         TOTAL CASES: 227982  \n",
      "         TOTAL DEATH: 5645  \n",
      "TOTAL INTENSIVE CATE: 1280  \n",
      "     TOTAL INTUBATED: 403  \n",
      "     TOTAL RECOVERED: 211561  \n",
      "          DAILY TEST: 47412  \n",
      "         DAILY CASES: 963  \n",
      "         DAILY DEATH: 15  \n",
      "     DAILY RECOVERED: 1092  \n"
     ]
    }
   ],
   "source": [
    "print(\"******* TURKEY MINISTRY OF HEALTH *******\")\n",
    "print(\"                DATE: %s  \" %(date),\n",
    "      \"          TOTAL TEST: %s  \" %(totalTests), \n",
    "      \"         TOTAL CASES: %s  \" %(totalCases), \n",
    "      \"         TOTAL DEATH: %s  \" %(totalDeath), \n",
    "      \"TOTAL INTENSIVE CATE: %s  \" %(totalIntensiveCare), \n",
    "      \"     TOTAL INTUBATED: %s  \" %(totalIntubated), \n",
    "      \"     TOTAL RECOVERED: %s  \" %(totalRecovered), \n",
    "      \"          DAILY TEST: %s  \" %(dailyTest), \n",
    "      \"         DAILY CASES: %s  \" %(dailyCases), \n",
    "      \"         DAILY DEATH: %s  \" %(dailyDeath), \n",
    "      \"     DAILY RECOVERED: %s  \" %(dailyRecovered), \n",
    "      sep=\"\\n\")"
   ]
  },
  {
   "cell_type": "code",
   "execution_count": 9,
   "metadata": {},
   "outputs": [
    {
     "data": {
      "text/html": [
       "<div>\n",
       "<style scoped>\n",
       "    .dataframe tbody tr th:only-of-type {\n",
       "        vertical-align: middle;\n",
       "    }\n",
       "\n",
       "    .dataframe tbody tr th {\n",
       "        vertical-align: top;\n",
       "    }\n",
       "\n",
       "    .dataframe thead th {\n",
       "        text-align: right;\n",
       "    }\n",
       "</style>\n",
       "<table border=\"1\" class=\"dataframe\">\n",
       "  <thead>\n",
       "    <tr style=\"text-align: right;\">\n",
       "      <th></th>\n",
       "      <th>totalTests</th>\n",
       "      <th>totalCases</th>\n",
       "      <th>totalDeaths</th>\n",
       "      <th>totalIntensiveCare</th>\n",
       "      <th>totalIntubated</th>\n",
       "      <th>totalRecovered</th>\n",
       "      <th>dailyTests</th>\n",
       "      <th>dailyCases</th>\n",
       "      <th>dailyDeaths</th>\n",
       "      <th>dailyRecovered</th>\n",
       "    </tr>\n",
       "    <tr>\n",
       "      <th>date</th>\n",
       "      <th></th>\n",
       "      <th></th>\n",
       "      <th></th>\n",
       "      <th></th>\n",
       "      <th></th>\n",
       "      <th></th>\n",
       "      <th></th>\n",
       "      <th></th>\n",
       "      <th></th>\n",
       "      <th></th>\n",
       "    </tr>\n",
       "  </thead>\n",
       "  <tbody>\n",
       "    <tr>\n",
       "      <td>2020-07-29</td>\n",
       "      <td>4665383</td>\n",
       "      <td>227982</td>\n",
       "      <td>5645</td>\n",
       "      <td>1280</td>\n",
       "      <td>403</td>\n",
       "      <td>211561</td>\n",
       "      <td>47412</td>\n",
       "      <td>963</td>\n",
       "      <td>15</td>\n",
       "      <td>1092</td>\n",
       "    </tr>\n",
       "  </tbody>\n",
       "</table>\n",
       "</div>"
      ],
      "text/plain": [
       "            totalTests  totalCases  totalDeaths  totalIntensiveCare  \\\n",
       "date                                                                  \n",
       "2020-07-29     4665383      227982         5645                1280   \n",
       "\n",
       "            totalIntubated  totalRecovered  dailyTests  dailyCases  \\\n",
       "date                                                                 \n",
       "2020-07-29             403          211561       47412         963   \n",
       "\n",
       "            dailyDeaths  dailyRecovered  \n",
       "date                                     \n",
       "2020-07-29           15            1092  "
      ]
     },
     "execution_count": 9,
     "metadata": {},
     "output_type": "execute_result"
    }
   ],
   "source": [
    "yeni_data = pd.DataFrame({\n",
    "                           \"date\":[date],\n",
    "                            \"totalTests\":[totalTests],\n",
    "                            \"totalCases\":[totalCases],\n",
    "                            \"totalDeaths\":[totalDeath],\n",
    "                            \"totalIntensiveCare\":[totalIntensiveCare],\n",
    "                            \"totalIntubated\":[totalIntubated],\n",
    "                            \"totalRecovered\":[totalRecovered],\n",
    "                            \"dailyTests\":[dailyTest],\n",
    "                            \"dailyCases\":[dailyCases],\n",
    "                            \"dailyDeaths\":[dailyDeath],\n",
    "                            \"dailyRecovered\":[dailyRecovered]\n",
    "                         }) \n",
    "yeni_data=yeni_data.set_index('date')\n",
    "yeni_data.index=pd.to_datetime(yeni_data.index, format ='%Y-%m-%d')\n",
    "yeni_data"
   ]
  },
  {
   "cell_type": "code",
   "execution_count": 10,
   "metadata": {},
   "outputs": [
    {
     "name": "stdout",
     "output_type": "stream",
     "text": [
      "Yeni veri eklendi\n"
     ]
    }
   ],
   "source": [
    "for i in yeni_data.index.to_list():\n",
    "    if i not in data.index.to_list():\n",
    "        data=data.append(yeni_data)\n",
    "        print(\"Yeni veri eklendi\")"
   ]
  },
  {
   "cell_type": "code",
   "execution_count": 11,
   "metadata": {},
   "outputs": [],
   "source": [
    "data.index = pd.to_datetime(data.index, format ='%Y-%m-%d')"
   ]
  },
  {
   "cell_type": "code",
   "execution_count": 12,
   "metadata": {},
   "outputs": [
    {
     "data": {
      "text/html": [
       "<div>\n",
       "<style scoped>\n",
       "    .dataframe tbody tr th:only-of-type {\n",
       "        vertical-align: middle;\n",
       "    }\n",
       "\n",
       "    .dataframe tbody tr th {\n",
       "        vertical-align: top;\n",
       "    }\n",
       "\n",
       "    .dataframe thead th {\n",
       "        text-align: right;\n",
       "    }\n",
       "</style>\n",
       "<table border=\"1\" class=\"dataframe\">\n",
       "  <thead>\n",
       "    <tr style=\"text-align: right;\">\n",
       "      <th></th>\n",
       "      <th>totalTests</th>\n",
       "      <th>totalCases</th>\n",
       "      <th>totalDeaths</th>\n",
       "      <th>totalIntensiveCare</th>\n",
       "      <th>totalIntubated</th>\n",
       "      <th>totalRecovered</th>\n",
       "      <th>dailyTests</th>\n",
       "      <th>dailyCases</th>\n",
       "      <th>dailyDeaths</th>\n",
       "      <th>dailyRecovered</th>\n",
       "    </tr>\n",
       "    <tr>\n",
       "      <th>date</th>\n",
       "      <th></th>\n",
       "      <th></th>\n",
       "      <th></th>\n",
       "      <th></th>\n",
       "      <th></th>\n",
       "      <th></th>\n",
       "      <th></th>\n",
       "      <th></th>\n",
       "      <th></th>\n",
       "      <th></th>\n",
       "    </tr>\n",
       "  </thead>\n",
       "  <tbody>\n",
       "    <tr>\n",
       "      <td>2020-07-27</td>\n",
       "      <td>4617971</td>\n",
       "      <td>227019</td>\n",
       "      <td>5630</td>\n",
       "      <td>1263</td>\n",
       "      <td>392</td>\n",
       "      <td>210469</td>\n",
       "      <td>45283</td>\n",
       "      <td>919</td>\n",
       "      <td>17</td>\n",
       "      <td>982</td>\n",
       "    </tr>\n",
       "    <tr>\n",
       "      <td>2020-07-29</td>\n",
       "      <td>4665383</td>\n",
       "      <td>227982</td>\n",
       "      <td>5645</td>\n",
       "      <td>1280</td>\n",
       "      <td>403</td>\n",
       "      <td>211561</td>\n",
       "      <td>47412</td>\n",
       "      <td>963</td>\n",
       "      <td>15</td>\n",
       "      <td>1092</td>\n",
       "    </tr>\n",
       "  </tbody>\n",
       "</table>\n",
       "</div>"
      ],
      "text/plain": [
       "            totalTests  totalCases  totalDeaths  totalIntensiveCare  \\\n",
       "date                                                                  \n",
       "2020-07-27     4617971      227019         5630                1263   \n",
       "2020-07-29     4665383      227982         5645                1280   \n",
       "\n",
       "            totalIntubated  totalRecovered  dailyTests  dailyCases  \\\n",
       "date                                                                 \n",
       "2020-07-27             392          210469       45283         919   \n",
       "2020-07-29             403          211561       47412         963   \n",
       "\n",
       "            dailyDeaths  dailyRecovered  \n",
       "date                                     \n",
       "2020-07-27           17             982  \n",
       "2020-07-29           15            1092  "
      ]
     },
     "execution_count": 12,
     "metadata": {},
     "output_type": "execute_result"
    }
   ],
   "source": [
    "data.tail(2)"
   ]
  },
  {
   "cell_type": "code",
   "execution_count": 13,
   "metadata": {},
   "outputs": [],
   "source": [
    "data.to_csv('covid19-Turkey.csv')"
   ]
  },
  {
   "cell_type": "code",
   "execution_count": 1,
   "metadata": {},
   "outputs": [
    {
     "ename": "NameError",
     "evalue": "name 'subprocess' is not defined",
     "output_type": "error",
     "traceback": [
      "\u001b[0;31m---------------------------------------------------------------------------\u001b[0m",
      "\u001b[0;31mNameError\u001b[0m                                 Traceback (most recent call last)",
      "\u001b[0;32m<ipython-input-1-093af6b740ca>\u001b[0m in \u001b[0;36m<module>\u001b[0;34m\u001b[0m\n\u001b[0;32m----> 1\u001b[0;31m \u001b[0msubprocess\u001b[0m\u001b[0;34m.\u001b[0m\u001b[0mcall\u001b[0m\u001b[0;34m(\u001b[0m\u001b[0;34m)\u001b[0m\u001b[0;34m\u001b[0m\u001b[0;34m\u001b[0m\u001b[0m\n\u001b[0m",
      "\u001b[0;31mNameError\u001b[0m: name 'subprocess' is not defined"
     ]
    }
   ],
   "source": [
    "subprocess.call()"
   ]
  },
  {
   "cell_type": "code",
   "execution_count": null,
   "metadata": {},
   "outputs": [],
   "source": []
  }
 ],
 "metadata": {
  "kernelspec": {
   "display_name": "Python 3",
   "language": "python",
   "name": "python3"
  },
  "language_info": {
   "codemirror_mode": {
    "name": "ipython",
    "version": 3
   },
   "file_extension": ".py",
   "mimetype": "text/x-python",
   "name": "python",
   "nbconvert_exporter": "python",
   "pygments_lexer": "ipython3",
   "version": "3.8.3"
  }
 },
 "nbformat": 4,
 "nbformat_minor": 4
}
