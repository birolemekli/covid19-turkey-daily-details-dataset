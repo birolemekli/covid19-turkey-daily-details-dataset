{
 "cells": [
  {
   "cell_type": "code",
   "execution_count": 1,
   "metadata": {},
   "outputs": [],
   "source": [
    "#!pip -q install requests_html"
   ]
  },
  {
   "cell_type": "code",
   "execution_count": 2,
   "metadata": {},
   "outputs": [],
   "source": [
    "import requests\n",
    "import time\n",
    "import datetime\n",
    "from requests_html import HTMLSession\n",
    "import pandas as pd"
   ]
  },
  {
   "cell_type": "code",
   "execution_count": 3,
   "metadata": {},
   "outputs": [],
   "source": [
    "data=pd.read_csv(\"./covid19-Turkey.csv\",index_col=\"date\")"
   ]
  },
  {
   "cell_type": "code",
   "execution_count": 4,
   "metadata": {},
   "outputs": [
    {
     "data": {
      "text/html": [
       "<div>\n",
       "<style scoped>\n",
       "    .dataframe tbody tr th:only-of-type {\n",
       "        vertical-align: middle;\n",
       "    }\n",
       "\n",
       "    .dataframe tbody tr th {\n",
       "        vertical-align: top;\n",
       "    }\n",
       "\n",
       "    .dataframe thead th {\n",
       "        text-align: right;\n",
       "    }\n",
       "</style>\n",
       "<table border=\"1\" class=\"dataframe\">\n",
       "  <thead>\n",
       "    <tr style=\"text-align: right;\">\n",
       "      <th></th>\n",
       "      <th>totalTests</th>\n",
       "      <th>totalCases</th>\n",
       "      <th>totalDeaths</th>\n",
       "      <th>totalIntensiveCare</th>\n",
       "      <th>totalIntubated</th>\n",
       "      <th>totalRecovered</th>\n",
       "      <th>dailyTests</th>\n",
       "      <th>dailyCases</th>\n",
       "      <th>dailyDeaths</th>\n",
       "      <th>dailyRecovered</th>\n",
       "    </tr>\n",
       "    <tr>\n",
       "      <th>date</th>\n",
       "      <th></th>\n",
       "      <th></th>\n",
       "      <th></th>\n",
       "      <th></th>\n",
       "      <th></th>\n",
       "      <th></th>\n",
       "      <th></th>\n",
       "      <th></th>\n",
       "      <th></th>\n",
       "      <th></th>\n",
       "    </tr>\n",
       "  </thead>\n",
       "  <tbody>\n",
       "    <tr>\n",
       "      <th>2020-07-20</th>\n",
       "      <td>4316781</td>\n",
       "      <td>220572</td>\n",
       "      <td>5508</td>\n",
       "      <td>1243</td>\n",
       "      <td>385</td>\n",
       "      <td>203002</td>\n",
       "      <td>43404</td>\n",
       "      <td>931</td>\n",
       "      <td>17</td>\n",
       "      <td>992</td>\n",
       "    </tr>\n",
       "    <tr>\n",
       "      <th>2020-07-21</th>\n",
       "      <td>4359627</td>\n",
       "      <td>221500</td>\n",
       "      <td>5526</td>\n",
       "      <td>1246</td>\n",
       "      <td>379</td>\n",
       "      <td>204011</td>\n",
       "      <td>42846</td>\n",
       "      <td>928</td>\n",
       "      <td>18</td>\n",
       "      <td>1009</td>\n",
       "    </tr>\n",
       "    <tr>\n",
       "      <th>2020-07-22</th>\n",
       "      <td>4403031</td>\n",
       "      <td>222402</td>\n",
       "      <td>5545</td>\n",
       "      <td>1244</td>\n",
       "      <td>381</td>\n",
       "      <td>205214</td>\n",
       "      <td>43404</td>\n",
       "      <td>902</td>\n",
       "      <td>19</td>\n",
       "      <td>1203</td>\n",
       "    </tr>\n",
       "  </tbody>\n",
       "</table>\n",
       "</div>"
      ],
      "text/plain": [
       "            totalTests  totalCases  totalDeaths  totalIntensiveCare  \\\n",
       "date                                                                  \n",
       "2020-07-20     4316781      220572         5508                1243   \n",
       "2020-07-21     4359627      221500         5526                1246   \n",
       "2020-07-22     4403031      222402         5545                1244   \n",
       "\n",
       "            totalIntubated  totalRecovered  dailyTests  dailyCases  \\\n",
       "date                                                                 \n",
       "2020-07-20             385          203002       43404         931   \n",
       "2020-07-21             379          204011       42846         928   \n",
       "2020-07-22             381          205214       43404         902   \n",
       "\n",
       "            dailyDeaths  dailyRecovered  \n",
       "date                                     \n",
       "2020-07-20           17             992  \n",
       "2020-07-21           18            1009  \n",
       "2020-07-22           19            1203  "
      ]
     },
     "execution_count": 4,
     "metadata": {},
     "output_type": "execute_result"
    }
   ],
   "source": [
    "data.tail(3)"
   ]
  },
  {
   "cell_type": "code",
   "execution_count": 5,
   "metadata": {},
   "outputs": [],
   "source": [
    "url = \"https://covid19.saglik.gov.tr/\""
   ]
  },
  {
   "cell_type": "code",
   "execution_count": 6,
   "metadata": {},
   "outputs": [],
   "source": [
    "session = HTMLSession()\n",
    "response = session.get(url)\n",
    "title = response.html.find('title', first=True).text"
   ]
  },
  {
   "cell_type": "code",
   "execution_count": 7,
   "metadata": {},
   "outputs": [],
   "source": [
    "totalTests = response.html.xpath('/html/body/div/div[2]/div/div[3]/div[1]/div/div/div/div/div[2]/div[1]/div[1]/div[1]/div/ul/li[1]/span[2]')\n",
    "totalTests=int(totalTests[0].text.replace('.',''))\n",
    "totalCases = response.html.xpath('/html/body/div/div[2]/div/div[3]/div[1]/div/div/div/div/div[2]/div[1]/div[1]/div[1]/div/ul/li[2]/span[2]')\n",
    "totalCases=int(totalCases[0].text.replace('.',''))\n",
    "totalDeath = response.html.xpath('/html/body/div/div[2]/div/div[3]/div[1]/div/div/div/div/div[2]/div[1]/div[1]/div[1]/div/ul/li[3]/span[2]')\n",
    "totalDeath=int(totalDeath[0].text.replace('.',''))\n",
    "totalIntensiveCare = response.html.xpath('/html/body/div/div[2]/div/div[3]/div[1]/div/div/div/div/div[2]/div[1]/div[1]/div[1]/div/ul/li[4]/span[2]')\n",
    "totalIntensiveCare=int(totalIntensiveCare[0].text.replace('.',''))\n",
    "totalIntubated = response.html.xpath('/html/body/div/div[2]/div/div[3]/div[1]/div/div/div/div/div[2]/div[1]/div[1]/div[1]/div/ul/li[5]/span[2]')\n",
    "totalIntubated=int(totalIntubated[0].text.replace('.',''))\n",
    "totalRecovered = response.html.xpath('/html/body/div/div[2]/div/div[3]/div[1]/div/div/div/div/div[2]/div[1]/div[1]/div[1]/div/ul/li[6]/span[2]')\n",
    "totalRecovered=int(totalRecovered[0].text.replace('.',''))\n",
    "dailyTest = response.html.xpath('/html/body/div/div[2]/div/div[3]/div[1]/div/div/div/div/div[2]/div[2]/div/ul/li[1]/span[2]')\n",
    "dailyTest=int(dailyTest[0].text.replace('.',''))\n",
    "dailyCases = response.html.xpath('/html/body/div/div[2]/div/div[3]/div[1]/div/div/div/div/div[2]/div[2]/div/ul/li[2]/span[2]')\n",
    "dailyCases=int(dailyCases[0].text.replace('.',''))\n",
    "dailyDeath = response.html.xpath('/html/body/div/div[2]/div/div[3]/div[1]/div/div/div/div/div[2]/div[2]/div/ul/li[3]/span[2]')\n",
    "dailyDeath=int(dailyDeath[0].text.replace('.',''))\n",
    "dailyRecovered = response.html.xpath('/html/body/div/div[2]/div/div[3]/div[1]/div/div/div/div/div[2]/div[2]/div/ul/li[4]/span[2]')\n",
    "dailyRecovered=int(dailyRecovered[0].text.replace('.',''))\n",
    "date=datetime.datetime.now().strftime(\"%Y-%m-%d\")"
   ]
  },
  {
   "cell_type": "code",
   "execution_count": 8,
   "metadata": {},
   "outputs": [
    {
     "name": "stdout",
     "output_type": "stream",
     "text": [
      "******* TURKEY MINISTRY OF HEALTH *******\n",
      "                DATE: 2020-07-23  \n",
      "          TOTAL TEST: 4446374  \n",
      "         TOTAL CASES: 223315  \n",
      "         TOTAL DEATH: 5563  \n",
      "TOTAL INTENSIVE CATE: 1251  \n",
      "     TOTAL INTUBATED: 378  \n",
      "     TOTAL RECOVERED: 206365  \n",
      "          DAILY TEST: 43343  \n",
      "         DAILY CASES: 913  \n",
      "         DAILY DEATH: 18  \n",
      "     DAILY RECOVERED: 1151  \n"
     ]
    }
   ],
   "source": [
    "print(\"******* TURKEY MINISTRY OF HEALTH *******\")\n",
    "print(\"                DATE: %s  \" %(date),\n",
    "      \"          TOTAL TEST: %s  \" %(totalTests), \n",
    "      \"         TOTAL CASES: %s  \" %(totalCases), \n",
    "      \"         TOTAL DEATH: %s  \" %(totalDeath), \n",
    "      \"TOTAL INTENSIVE CATE: %s  \" %(totalIntensiveCare), \n",
    "      \"     TOTAL INTUBATED: %s  \" %(totalIntubated), \n",
    "      \"     TOTAL RECOVERED: %s  \" %(totalRecovered), \n",
    "      \"          DAILY TEST: %s  \" %(dailyTest), \n",
    "      \"         DAILY CASES: %s  \" %(dailyCases), \n",
    "      \"         DAILY DEATH: %s  \" %(dailyDeath), \n",
    "      \"     DAILY RECOVERED: %s  \" %(dailyRecovered), \n",
    "      sep=\"\\n\")"
   ]
  },
  {
   "cell_type": "code",
   "execution_count": 9,
   "metadata": {},
   "outputs": [
    {
     "data": {
      "text/html": [
       "<div>\n",
       "<style scoped>\n",
       "    .dataframe tbody tr th:only-of-type {\n",
       "        vertical-align: middle;\n",
       "    }\n",
       "\n",
       "    .dataframe tbody tr th {\n",
       "        vertical-align: top;\n",
       "    }\n",
       "\n",
       "    .dataframe thead th {\n",
       "        text-align: right;\n",
       "    }\n",
       "</style>\n",
       "<table border=\"1\" class=\"dataframe\">\n",
       "  <thead>\n",
       "    <tr style=\"text-align: right;\">\n",
       "      <th></th>\n",
       "      <th>totalTests</th>\n",
       "      <th>totalCases</th>\n",
       "      <th>totalDeaths</th>\n",
       "      <th>totalIntensiveCare</th>\n",
       "      <th>totalIntubated</th>\n",
       "      <th>totalRecovered</th>\n",
       "      <th>dailyTests</th>\n",
       "      <th>dailyCases</th>\n",
       "      <th>dailyDeaths</th>\n",
       "      <th>dailyRecovered</th>\n",
       "    </tr>\n",
       "    <tr>\n",
       "      <th>date</th>\n",
       "      <th></th>\n",
       "      <th></th>\n",
       "      <th></th>\n",
       "      <th></th>\n",
       "      <th></th>\n",
       "      <th></th>\n",
       "      <th></th>\n",
       "      <th></th>\n",
       "      <th></th>\n",
       "      <th></th>\n",
       "    </tr>\n",
       "  </thead>\n",
       "  <tbody>\n",
       "    <tr>\n",
       "      <th>2020-07-23</th>\n",
       "      <td>4446374</td>\n",
       "      <td>223315</td>\n",
       "      <td>5563</td>\n",
       "      <td>1251</td>\n",
       "      <td>378</td>\n",
       "      <td>206365</td>\n",
       "      <td>43343</td>\n",
       "      <td>913</td>\n",
       "      <td>18</td>\n",
       "      <td>1151</td>\n",
       "    </tr>\n",
       "  </tbody>\n",
       "</table>\n",
       "</div>"
      ],
      "text/plain": [
       "            totalTests  totalCases  totalDeaths  totalIntensiveCare  \\\n",
       "date                                                                  \n",
       "2020-07-23     4446374      223315         5563                1251   \n",
       "\n",
       "            totalIntubated  totalRecovered  dailyTests  dailyCases  \\\n",
       "date                                                                 \n",
       "2020-07-23             378          206365       43343         913   \n",
       "\n",
       "            dailyDeaths  dailyRecovered  \n",
       "date                                     \n",
       "2020-07-23           18            1151  "
      ]
     },
     "execution_count": 9,
     "metadata": {},
     "output_type": "execute_result"
    }
   ],
   "source": [
    "yeni_data = pd.DataFrame({\n",
    "                           \"date\":[date],\n",
    "                            \"totalTests\":[totalTests],\n",
    "                            \"totalCases\":[totalCases],\n",
    "                            \"totalDeaths\":[totalDeath],\n",
    "                            \"totalIntensiveCare\":[totalIntensiveCare],\n",
    "                            \"totalIntubated\":[totalIntubated],\n",
    "                            \"totalRecovered\":[totalRecovered],\n",
    "                            \"dailyTests\":[dailyTest],\n",
    "                            \"dailyCases\":[dailyCases],\n",
    "                            \"dailyDeaths\":[dailyDeath],\n",
    "                            \"dailyRecovered\":[dailyRecovered]\n",
    "                         }) \n",
    "yeni_data=yeni_data.set_index('date')\n",
    "yeni_data.index=pd.to_datetime(yeni_data.index, format ='%Y-%m-%d')\n",
    "yeni_data"
   ]
  },
  {
   "cell_type": "code",
   "execution_count": 10,
   "metadata": {},
   "outputs": [
    {
     "name": "stdout",
     "output_type": "stream",
     "text": [
      "Yeni veri eklendi\n"
     ]
    }
   ],
   "source": [
    "for i in yeni_data.index.to_list():\n",
    "    if i not in data.index.to_list():\n",
    "        data=data.append(yeni_data)\n",
    "        print(\"Yeni veri eklendi\")"
   ]
  },
  {
   "cell_type": "code",
   "execution_count": 11,
   "metadata": {},
   "outputs": [],
   "source": [
    "data.index = pd.to_datetime(data.index, format ='%Y-%m-%d')"
   ]
  },
  {
   "cell_type": "code",
   "execution_count": 12,
   "metadata": {},
   "outputs": [
    {
     "data": {
      "text/html": [
       "<div>\n",
       "<style scoped>\n",
       "    .dataframe tbody tr th:only-of-type {\n",
       "        vertical-align: middle;\n",
       "    }\n",
       "\n",
       "    .dataframe tbody tr th {\n",
       "        vertical-align: top;\n",
       "    }\n",
       "\n",
       "    .dataframe thead th {\n",
       "        text-align: right;\n",
       "    }\n",
       "</style>\n",
       "<table border=\"1\" class=\"dataframe\">\n",
       "  <thead>\n",
       "    <tr style=\"text-align: right;\">\n",
       "      <th></th>\n",
       "      <th>totalTests</th>\n",
       "      <th>totalCases</th>\n",
       "      <th>totalDeaths</th>\n",
       "      <th>totalIntensiveCare</th>\n",
       "      <th>totalIntubated</th>\n",
       "      <th>totalRecovered</th>\n",
       "      <th>dailyTests</th>\n",
       "      <th>dailyCases</th>\n",
       "      <th>dailyDeaths</th>\n",
       "      <th>dailyRecovered</th>\n",
       "    </tr>\n",
       "    <tr>\n",
       "      <th>date</th>\n",
       "      <th></th>\n",
       "      <th></th>\n",
       "      <th></th>\n",
       "      <th></th>\n",
       "      <th></th>\n",
       "      <th></th>\n",
       "      <th></th>\n",
       "      <th></th>\n",
       "      <th></th>\n",
       "      <th></th>\n",
       "    </tr>\n",
       "  </thead>\n",
       "  <tbody>\n",
       "    <tr>\n",
       "      <th>2020-07-22</th>\n",
       "      <td>4403031</td>\n",
       "      <td>222402</td>\n",
       "      <td>5545</td>\n",
       "      <td>1244</td>\n",
       "      <td>381</td>\n",
       "      <td>205214</td>\n",
       "      <td>43404</td>\n",
       "      <td>902</td>\n",
       "      <td>19</td>\n",
       "      <td>1203</td>\n",
       "    </tr>\n",
       "    <tr>\n",
       "      <th>2020-07-23</th>\n",
       "      <td>4446374</td>\n",
       "      <td>223315</td>\n",
       "      <td>5563</td>\n",
       "      <td>1251</td>\n",
       "      <td>378</td>\n",
       "      <td>206365</td>\n",
       "      <td>43343</td>\n",
       "      <td>913</td>\n",
       "      <td>18</td>\n",
       "      <td>1151</td>\n",
       "    </tr>\n",
       "  </tbody>\n",
       "</table>\n",
       "</div>"
      ],
      "text/plain": [
       "            totalTests  totalCases  totalDeaths  totalIntensiveCare  \\\n",
       "date                                                                  \n",
       "2020-07-22     4403031      222402         5545                1244   \n",
       "2020-07-23     4446374      223315         5563                1251   \n",
       "\n",
       "            totalIntubated  totalRecovered  dailyTests  dailyCases  \\\n",
       "date                                                                 \n",
       "2020-07-22             381          205214       43404         902   \n",
       "2020-07-23             378          206365       43343         913   \n",
       "\n",
       "            dailyDeaths  dailyRecovered  \n",
       "date                                     \n",
       "2020-07-22           19            1203  \n",
       "2020-07-23           18            1151  "
      ]
     },
     "execution_count": 12,
     "metadata": {},
     "output_type": "execute_result"
    }
   ],
   "source": [
    "data.tail(2)"
   ]
  },
  {
   "cell_type": "code",
   "execution_count": 13,
   "metadata": {},
   "outputs": [],
   "source": [
    "data.to_csv('covid19-Turkey.csv')"
   ]
  },
  {
   "cell_type": "code",
   "execution_count": null,
   "metadata": {},
   "outputs": [],
   "source": []
  }
 ],
 "metadata": {
  "kernelspec": {
   "display_name": "Python 3",
   "language": "python",
   "name": "python3"
  },
  "language_info": {
   "codemirror_mode": {
    "name": "ipython",
    "version": 3
   },
   "file_extension": ".py",
   "mimetype": "text/x-python",
   "name": "python",
   "nbconvert_exporter": "python",
   "pygments_lexer": "ipython3",
   "version": "3.8.1"
  }
 },
 "nbformat": 4,
 "nbformat_minor": 4
}
